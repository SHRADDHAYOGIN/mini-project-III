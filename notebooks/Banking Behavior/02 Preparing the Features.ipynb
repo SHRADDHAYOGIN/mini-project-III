{
 "cells": [
  {
   "cell_type": "markdown",
   "id": "8a66e32d",
   "metadata": {},
   "source": [
    "* In the original version, I did not delete any outliers, trying to use the Scaling methods to handle them. Now I will actually remove any outliers in this data."
   ]
  },
  {
   "cell_type": "code",
   "execution_count": 1,
   "id": "68195a4e",
   "metadata": {},
   "outputs": [],
   "source": [
    "import pandas as pd\n",
    "import numpy as np\n",
    "import matplotlib.pyplot as plt\n",
    "import seaborn as sns"
   ]
  },
  {
   "cell_type": "code",
   "execution_count": 2,
   "id": "fa3f0a19",
   "metadata": {},
   "outputs": [
    {
     "data": {
      "text/html": [
       "<div>\n",
       "<style scoped>\n",
       "    .dataframe tbody tr th:only-of-type {\n",
       "        vertical-align: middle;\n",
       "    }\n",
       "\n",
       "    .dataframe tbody tr th {\n",
       "        vertical-align: top;\n",
       "    }\n",
       "\n",
       "    .dataframe thead th {\n",
       "        text-align: right;\n",
       "    }\n",
       "</style>\n",
       "<table border=\"1\" class=\"dataframe\">\n",
       "  <thead>\n",
       "    <tr style=\"text-align: right;\">\n",
       "      <th></th>\n",
       "      <th>hasSavings</th>\n",
       "      <th>incomeToSavingsRatio</th>\n",
       "      <th>hasCredit</th>\n",
       "      <th>creditSpendtoLimitRatio</th>\n",
       "      <th>hasChecking</th>\n",
       "      <th>averageMonthlySpending</th>\n",
       "      <th>numTnxMonthlyAverage</th>\n",
       "    </tr>\n",
       "  </thead>\n",
       "  <tbody>\n",
       "    <tr>\n",
       "      <th>0</th>\n",
       "      <td>No</td>\n",
       "      <td>0.000000</td>\n",
       "      <td>No</td>\n",
       "      <td>0.000000</td>\n",
       "      <td>No</td>\n",
       "      <td>0.000000</td>\n",
       "      <td>0.000000</td>\n",
       "    </tr>\n",
       "    <tr>\n",
       "      <th>1</th>\n",
       "      <td>Yes</td>\n",
       "      <td>-196.441989</td>\n",
       "      <td>Yes</td>\n",
       "      <td>-0.046533</td>\n",
       "      <td>Yes</td>\n",
       "      <td>-114.890833</td>\n",
       "      <td>4.333333</td>\n",
       "    </tr>\n",
       "    <tr>\n",
       "      <th>2</th>\n",
       "      <td>Yes</td>\n",
       "      <td>93716.210526</td>\n",
       "      <td>Yes</td>\n",
       "      <td>0.031669</td>\n",
       "      <td>No</td>\n",
       "      <td>0.000000</td>\n",
       "      <td>0.000000</td>\n",
       "    </tr>\n",
       "    <tr>\n",
       "      <th>3</th>\n",
       "      <td>Yes</td>\n",
       "      <td>63066.813671</td>\n",
       "      <td>Yes</td>\n",
       "      <td>0.200554</td>\n",
       "      <td>Yes</td>\n",
       "      <td>-40.327500</td>\n",
       "      <td>7.750000</td>\n",
       "    </tr>\n",
       "    <tr>\n",
       "      <th>4</th>\n",
       "      <td>Yes</td>\n",
       "      <td>141441.269841</td>\n",
       "      <td>Yes</td>\n",
       "      <td>0.173563</td>\n",
       "      <td>Yes</td>\n",
       "      <td>-494.062727</td>\n",
       "      <td>9.000000</td>\n",
       "    </tr>\n",
       "  </tbody>\n",
       "</table>\n",
       "</div>"
      ],
      "text/plain": [
       "  hasSavings  incomeToSavingsRatio hasCredit  creditSpendtoLimitRatio  \\\n",
       "0         No              0.000000        No                 0.000000   \n",
       "1        Yes           -196.441989       Yes                -0.046533   \n",
       "2        Yes          93716.210526       Yes                 0.031669   \n",
       "3        Yes          63066.813671       Yes                 0.200554   \n",
       "4        Yes         141441.269841       Yes                 0.173563   \n",
       "\n",
       "  hasChecking  averageMonthlySpending  numTnxMonthlyAverage  \n",
       "0          No                0.000000              0.000000  \n",
       "1         Yes             -114.890833              4.333333  \n",
       "2          No                0.000000              0.000000  \n",
       "3         Yes              -40.327500              7.750000  \n",
       "4         Yes             -494.062727              9.000000  "
      ]
     },
     "execution_count": 2,
     "metadata": {},
     "output_type": "execute_result"
    }
   ],
   "source": [
    "df = pd.read_csv('../../data/banking_transactions_output_data/customer_behavior_df.csv')\n",
    "df.drop(columns=['income', 'cust_id'], inplace=True)\n",
    "df.head()"
   ]
  },
  {
   "cell_type": "code",
   "execution_count": 3,
   "id": "6f1bba6e",
   "metadata": {},
   "outputs": [
    {
     "name": "stdout",
     "output_type": "stream",
     "text": [
      "<class 'pandas.core.frame.DataFrame'>\n",
      "RangeIndex: 747 entries, 0 to 746\n",
      "Data columns (total 7 columns):\n",
      " #   Column                   Non-Null Count  Dtype  \n",
      "---  ------                   --------------  -----  \n",
      " 0   hasSavings               747 non-null    object \n",
      " 1   incomeToSavingsRatio     747 non-null    float64\n",
      " 2   hasCredit                747 non-null    object \n",
      " 3   creditSpendtoLimitRatio  747 non-null    float64\n",
      " 4   hasChecking              747 non-null    object \n",
      " 5   averageMonthlySpending   747 non-null    float64\n",
      " 6   numTnxMonthlyAverage     747 non-null    float64\n",
      "dtypes: float64(4), object(3)\n",
      "memory usage: 41.0+ KB\n"
     ]
    }
   ],
   "source": [
    "df.info()"
   ]
  },
  {
   "cell_type": "code",
   "execution_count": 4,
   "id": "906cdcae",
   "metadata": {},
   "outputs": [
    {
     "data": {
      "text/html": [
       "<div>\n",
       "<style scoped>\n",
       "    .dataframe tbody tr th:only-of-type {\n",
       "        vertical-align: middle;\n",
       "    }\n",
       "\n",
       "    .dataframe tbody tr th {\n",
       "        vertical-align: top;\n",
       "    }\n",
       "\n",
       "    .dataframe thead th {\n",
       "        text-align: right;\n",
       "    }\n",
       "</style>\n",
       "<table border=\"1\" class=\"dataframe\">\n",
       "  <thead>\n",
       "    <tr style=\"text-align: right;\">\n",
       "      <th></th>\n",
       "      <th>incomeToSavingsRatio</th>\n",
       "      <th>creditSpendtoLimitRatio</th>\n",
       "      <th>averageMonthlySpending</th>\n",
       "      <th>numTnxMonthlyAverage</th>\n",
       "    </tr>\n",
       "  </thead>\n",
       "  <tbody>\n",
       "    <tr>\n",
       "      <th>count</th>\n",
       "      <td>7.470000e+02</td>\n",
       "      <td>747.000000</td>\n",
       "      <td>747.000000</td>\n",
       "      <td>747.000000</td>\n",
       "    </tr>\n",
       "    <tr>\n",
       "      <th>mean</th>\n",
       "      <td>1.438181e+04</td>\n",
       "      <td>-0.005156</td>\n",
       "      <td>-89.862092</td>\n",
       "      <td>6.173348</td>\n",
       "    </tr>\n",
       "    <tr>\n",
       "      <th>std</th>\n",
       "      <td>1.650565e+05</td>\n",
       "      <td>0.102669</td>\n",
       "      <td>199.535463</td>\n",
       "      <td>7.910584</td>\n",
       "    </tr>\n",
       "    <tr>\n",
       "      <th>min</th>\n",
       "      <td>-1.047294e+05</td>\n",
       "      <td>-1.000000</td>\n",
       "      <td>-1439.755000</td>\n",
       "      <td>0.000000</td>\n",
       "    </tr>\n",
       "    <tr>\n",
       "      <th>25%</th>\n",
       "      <td>0.000000e+00</td>\n",
       "      <td>-0.019007</td>\n",
       "      <td>-171.391310</td>\n",
       "      <td>0.000000</td>\n",
       "    </tr>\n",
       "    <tr>\n",
       "      <th>50%</th>\n",
       "      <td>0.000000e+00</td>\n",
       "      <td>0.000000</td>\n",
       "      <td>-9.595000</td>\n",
       "      <td>8.250000</td>\n",
       "    </tr>\n",
       "    <tr>\n",
       "      <th>75%</th>\n",
       "      <td>6.565271e+02</td>\n",
       "      <td>0.001192</td>\n",
       "      <td>0.000000</td>\n",
       "      <td>9.000000</td>\n",
       "    </tr>\n",
       "    <tr>\n",
       "      <th>max</th>\n",
       "      <td>4.032900e+06</td>\n",
       "      <td>0.938203</td>\n",
       "      <td>1625.430000</td>\n",
       "      <td>99.000000</td>\n",
       "    </tr>\n",
       "  </tbody>\n",
       "</table>\n",
       "</div>"
      ],
      "text/plain": [
       "       incomeToSavingsRatio  creditSpendtoLimitRatio  averageMonthlySpending  \\\n",
       "count          7.470000e+02               747.000000              747.000000   \n",
       "mean           1.438181e+04                -0.005156              -89.862092   \n",
       "std            1.650565e+05                 0.102669              199.535463   \n",
       "min           -1.047294e+05                -1.000000            -1439.755000   \n",
       "25%            0.000000e+00                -0.019007             -171.391310   \n",
       "50%            0.000000e+00                 0.000000               -9.595000   \n",
       "75%            6.565271e+02                 0.001192                0.000000   \n",
       "max            4.032900e+06                 0.938203             1625.430000   \n",
       "\n",
       "       numTnxMonthlyAverage  \n",
       "count            747.000000  \n",
       "mean               6.173348  \n",
       "std                7.910584  \n",
       "min                0.000000  \n",
       "25%                0.000000  \n",
       "50%                8.250000  \n",
       "75%                9.000000  \n",
       "max               99.000000  "
      ]
     },
     "execution_count": 4,
     "metadata": {},
     "output_type": "execute_result"
    }
   ],
   "source": [
    "df.describe()"
   ]
  },
  {
   "cell_type": "code",
   "execution_count": 5,
   "id": "6bb78f83",
   "metadata": {},
   "outputs": [
    {
     "data": {
      "image/png": "[encoded data removed]",
      "text/plain": [
       "<Figure size 640x480 with 1 Axes>"
      ]
     },
     "metadata": {},
     "output_type": "display_data"
    },
    {
     "data": {
      "image/png": "[encoded data removed]",
      "text/plain": [
       "<Figure size 640x480 with 1 Axes>"
      ]
     },
     "metadata": {},
     "output_type": "display_data"
    },
    {
     "data": {
      "image/png": "[encoded data removed]",
      "text/plain": [
       "<Figure size 640x480 with 1 Axes>"
      ]
     },
     "metadata": {},
     "output_type": "display_data"
    },
    {
     "data": {
      "image/png": "[encoded data removed]",
      "text/plain": [
       "<Figure size 640x480 with 1 Axes>"
      ]
     },
     "metadata": {},
     "output_type": "display_data"
    }
   ],
   "source": [
    "numerical_columns =  ['incomeToSavingsRatio',\n",
    "                      'creditSpendtoLimitRatio',\n",
    "                      'averageMonthlySpending',\n",
    "                      'numTnxMonthlyAverage']\n",
    "    \n",
    "for col in numerical_columns:\n",
    "    plt.hist(df[col], bins=20)\n",
    "#     df[col].plot(kind='hist', bins=10)\n",
    "    plt.xlabel(col)\n",
    "    plt.show()"
   ]
  },
  {
   "cell_type": "markdown",
   "id": "ff830e78",
   "metadata": {},
   "source": [
    "## Handling Outliers.\n",
    "\n",
    "1 - Categorize `incomeToSavingsRatio` into `incomeToSavingsRanking`\n",
    "\n",
    "2 - Visualize with boxplots to find and remove the outliers in the other columns"
   ]
  },
  {
   "cell_type": "code",
   "execution_count": 6,
   "id": "39ab52b9",
   "metadata": {},
   "outputs": [
    {
     "data": {
      "image/png": "[encoded data removed]",
      "text/plain": [
       "<Figure size 640x480 with 1 Axes>"
      ]
     },
     "metadata": {},
     "output_type": "display_data"
    },
    {
     "data": {
      "image/png": "[encoded data removed]",
      "text/plain": [
       "<Figure size 640x480 with 1 Axes>"
      ]
     },
     "metadata": {},
     "output_type": "display_data"
    },
    {
     "data": {
      "image/png": "[encoded data removed]",
      "text/plain": [
       "<Figure size 640x480 with 1 Axes>"
      ]
     },
     "metadata": {},
     "output_type": "display_data"
    }
   ],
   "source": [
    "numerical_columns =  ['creditSpendtoLimitRatio',\n",
    "                      'averageMonthlySpending',\n",
    "                      'numTnxMonthlyAverage']\n",
    "    \n",
    "for col in numerical_columns:\n",
    "    sns.boxplot(df[col])\n",
    "#     df[col].plot(kind='hist', bins=10)\n",
    "    plt.xlabel(col)\n",
    "    plt.show()"
   ]
  },
  {
   "cell_type": "code",
   "execution_count": 7,
   "id": "6dcc8d4a",
   "metadata": {},
   "outputs": [],
   "source": [
    "\n",
    "# creditSpendtoLimitRatio\n",
    "for idx in df.index:\n",
    "    if df.loc[idx,'creditSpendtoLimitRatio'] > 0.2:\n",
    "        df.loc[idx, 'creditSpendtoLimitRatio'] = 0.2\n",
    "    if df.loc[idx,'creditSpendtoLimitRatio'] < -0.2:\n",
    "        df.loc[idx, 'creditSpendtoLimitRatio'] = -0.2\n",
    "\n",
    "\n",
    "# averageMonthlySpending\n",
    "for idx in df.index:\n",
    "    if df.loc[idx,'averageMonthlySpending'] > 500:\n",
    "        df.loc[idx, 'averageMonthlySpending'] = 500\n",
    "    if df.loc[idx,'averageMonthlySpending'] < -1000:\n",
    "        df.loc[idx, 'averageMonthlySpending'] = -1000\n",
    "        \n",
    "# numTnxMonthlyAverage\n",
    "for idx in df.index:\n",
    "    if df.loc[idx,'numTnxMonthlyAverage'] > 20:\n",
    "        df.loc[idx, 'numTnxMonthlyAverage'] = 20"
   ]
  },
  {
   "cell_type": "code",
   "execution_count": 8,
   "id": "d22c6e6c",
   "metadata": {},
   "outputs": [
    {
     "data": {
      "image/png": "[encoded data removed]",
      "text/plain": [
       "<Figure size 640x480 with 1 Axes>"
      ]
     },
     "metadata": {},
     "output_type": "display_data"
    },
    {
     "data": {
      "image/png": "[encoded data removed]",
      "text/plain": [
       "<Figure size 640x480 with 1 Axes>"
      ]
     },
     "metadata": {},
     "output_type": "display_data"
    },
    {
     "data": {
      "image/png": "[encoded data removed]",
      "text/plain": [
       "<Figure size 640x480 with 1 Axes>"
      ]
     },
     "metadata": {},
     "output_type": "display_data"
    }
   ],
   "source": [
    "numerical_columns =  ['creditSpendtoLimitRatio',\n",
    "                      'averageMonthlySpending',\n",
    "                      'numTnxMonthlyAverage']\n",
    "    \n",
    "for col in numerical_columns:\n",
    "    sns.boxplot(df[col])\n",
    "#     df[col].plot(kind='hist', bins=10)\n",
    "    plt.xlabel(col)\n",
    "    plt.show()"
   ]
  },
  {
   "cell_type": "code",
   "execution_count": 9,
   "id": "d7e73ca9",
   "metadata": {},
   "outputs": [],
   "source": [
    "df_encoded = df[numerical_columns]"
   ]
  },
  {
   "cell_type": "markdown",
   "id": "877b2b5d",
   "metadata": {},
   "source": [
    "## Scaling Categorical Values\n",
    "\n",
    "It is recommended that categorical values should be scaled before clustering so as not to dominate the results"
   ]
  },
  {
   "cell_type": "code",
   "execution_count": 10,
   "id": "9ce3b07c",
   "metadata": {},
   "outputs": [
    {
     "data": {
      "text/plain": [
       "(5,\n",
       " ['Low', 'Lowest', 'Highest', 'Med', 'High']\n",
       " Categories (5, object): ['Lowest' < 'Low' < 'Med' < 'High' < 'Highest'])"
      ]
     },
     "execution_count": 10,
     "metadata": {},
     "output_type": "execute_result"
    }
   ],
   "source": [
    "###############################\n",
    "# using qcut to convert the incomeToSavingsRatio to equal bins\n",
    "incomeToSavingsRanking = pd.qcut(df['incomeToSavingsRatio'], \n",
    "                        q=8,\n",
    "                        duplicates='drop',\n",
    "                       labels = ['Lowest', 'Low', 'Med', 'High', 'Highest'])\n",
    "\n",
    "incomeToSavingsRanking.nunique(), incomeToSavingsRanking.unique()"
   ]
  },
  {
   "cell_type": "code",
   "execution_count": 11,
   "id": "84ef6599",
   "metadata": {},
   "outputs": [
    {
     "data": {
      "text/html": [
       "<div>\n",
       "<style scoped>\n",
       "    .dataframe tbody tr th:only-of-type {\n",
       "        vertical-align: middle;\n",
       "    }\n",
       "\n",
       "    .dataframe tbody tr th {\n",
       "        vertical-align: top;\n",
       "    }\n",
       "\n",
       "    .dataframe thead th {\n",
       "        text-align: right;\n",
       "    }\n",
       "</style>\n",
       "<table border=\"1\" class=\"dataframe\">\n",
       "  <thead>\n",
       "    <tr style=\"text-align: right;\">\n",
       "      <th></th>\n",
       "      <th>hasSavings</th>\n",
       "      <th>incomeToSavingsRatio</th>\n",
       "      <th>hasCredit</th>\n",
       "      <th>creditSpendtoLimitRatio</th>\n",
       "      <th>hasChecking</th>\n",
       "      <th>averageMonthlySpending</th>\n",
       "      <th>numTnxMonthlyAverage</th>\n",
       "      <th>incomeToSavingsRanking</th>\n",
       "    </tr>\n",
       "  </thead>\n",
       "  <tbody>\n",
       "    <tr>\n",
       "      <th>0</th>\n",
       "      <td>No</td>\n",
       "      <td>0.000000</td>\n",
       "      <td>No</td>\n",
       "      <td>0.000000</td>\n",
       "      <td>No</td>\n",
       "      <td>0.000000</td>\n",
       "      <td>0.000000</td>\n",
       "      <td>2</td>\n",
       "    </tr>\n",
       "    <tr>\n",
       "      <th>1</th>\n",
       "      <td>Yes</td>\n",
       "      <td>-196.441989</td>\n",
       "      <td>Yes</td>\n",
       "      <td>-0.046533</td>\n",
       "      <td>Yes</td>\n",
       "      <td>-114.890833</td>\n",
       "      <td>4.333333</td>\n",
       "      <td>3</td>\n",
       "    </tr>\n",
       "    <tr>\n",
       "      <th>2</th>\n",
       "      <td>Yes</td>\n",
       "      <td>93716.210526</td>\n",
       "      <td>Yes</td>\n",
       "      <td>0.031669</td>\n",
       "      <td>No</td>\n",
       "      <td>0.000000</td>\n",
       "      <td>0.000000</td>\n",
       "      <td>1</td>\n",
       "    </tr>\n",
       "    <tr>\n",
       "      <th>3</th>\n",
       "      <td>Yes</td>\n",
       "      <td>63066.813671</td>\n",
       "      <td>Yes</td>\n",
       "      <td>0.200000</td>\n",
       "      <td>Yes</td>\n",
       "      <td>-40.327500</td>\n",
       "      <td>7.750000</td>\n",
       "      <td>1</td>\n",
       "    </tr>\n",
       "    <tr>\n",
       "      <th>4</th>\n",
       "      <td>Yes</td>\n",
       "      <td>141441.269841</td>\n",
       "      <td>Yes</td>\n",
       "      <td>0.173563</td>\n",
       "      <td>Yes</td>\n",
       "      <td>-494.062727</td>\n",
       "      <td>9.000000</td>\n",
       "      <td>1</td>\n",
       "    </tr>\n",
       "  </tbody>\n",
       "</table>\n",
       "</div>"
      ],
      "text/plain": [
       "  hasSavings  incomeToSavingsRatio hasCredit  creditSpendtoLimitRatio  \\\n",
       "0         No              0.000000        No                 0.000000   \n",
       "1        Yes           -196.441989       Yes                -0.046533   \n",
       "2        Yes          93716.210526       Yes                 0.031669   \n",
       "3        Yes          63066.813671       Yes                 0.200000   \n",
       "4        Yes         141441.269841       Yes                 0.173563   \n",
       "\n",
       "  hasChecking  averageMonthlySpending  numTnxMonthlyAverage  \\\n",
       "0          No                0.000000              0.000000   \n",
       "1         Yes             -114.890833              4.333333   \n",
       "2          No                0.000000              0.000000   \n",
       "3         Yes              -40.327500              7.750000   \n",
       "4         Yes             -494.062727              9.000000   \n",
       "\n",
       "   incomeToSavingsRanking  \n",
       "0                       2  \n",
       "1                       3  \n",
       "2                       1  \n",
       "3                       1  \n",
       "4                       1  "
      ]
     },
     "execution_count": 11,
     "metadata": {},
     "output_type": "execute_result"
    }
   ],
   "source": [
    "## Convert Ordinal Categorical data to numeric using Label Encoder\n",
    "\n",
    "from sklearn import preprocessing\n",
    "le = preprocessing.LabelEncoder()\n",
    "df['incomeToSavingsRanking'] = le.fit_transform(incomeToSavingsRanking)\n",
    "\n",
    "# df.drop(columns='incomeToSavingsRatio', inplace=True)\n",
    "df.head()"
   ]
  },
  {
   "cell_type": "code",
   "execution_count": 12,
   "id": "d26a1707",
   "metadata": {},
   "outputs": [
    {
     "name": "stderr",
     "output_type": "stream",
     "text": [
      "/var/folders/yj/c676wyw500q1vyq2brsvcqtr0000gn/T/ipykernel_40501/4178990660.py:8: SettingWithCopyWarning: \n",
      "A value is trying to be set on a copy of a slice from a DataFrame.\n",
      "Try using .loc[row_indexer,col_indexer] = value instead\n",
      "\n",
      "See the caveats in the documentation: https://pandas.pydata.org/pandas-docs/stable/user_guide/indexing.html#returning-a-view-versus-a-copy\n",
      "  df_binary_categories[col] = tmp\n"
     ]
    },
    {
     "data": {
      "text/plain": [
       "1    420\n",
       "0    327\n",
       "Name: hasSavings, dtype: int64"
      ]
     },
     "execution_count": 12,
     "metadata": {},
     "output_type": "execute_result"
    }
   ],
   "source": [
    "##################\n",
    "# combine the binary columns into one ordinal categorical column with 0, 1, 2, 3 for numAccounts\n",
    "binary_cat_columns = ['hasSavings', 'hasCredit', 'hasChecking']\n",
    "# change Nos to 0s and Yess to 1 to reduce its scaling\n",
    "df_binary_categories =df[binary_cat_columns]\n",
    "for col in binary_cat_columns:\n",
    "    tmp = df[col].apply(lambda x: 0 if x=='No' else 1) \n",
    "    df_binary_categories[col] = tmp\n",
    "# checking the results\n",
    "df_binary_categories['hasSavings'].value_counts()"
   ]
  },
  {
   "cell_type": "code",
   "execution_count": 13,
   "id": "f5f19abe",
   "metadata": {},
   "outputs": [
    {
     "data": {
      "text/plain": [
       "0      0\n",
       "1      3\n",
       "2      2\n",
       "3      3\n",
       "4      3\n",
       "      ..\n",
       "742    1\n",
       "743    2\n",
       "744    2\n",
       "745    2\n",
       "746    2\n",
       "Length: 747, dtype: int64"
      ]
     },
     "execution_count": 13,
     "metadata": {},
     "output_type": "execute_result"
    }
   ],
   "source": [
    "# creating numAccounts \n",
    "numAccounts = df_binary_categories.sum(axis=1)\n",
    "numAccounts"
   ]
  },
  {
   "cell_type": "code",
   "execution_count": 14,
   "id": "5c7cddee",
   "metadata": {},
   "outputs": [
    {
     "name": "stderr",
     "output_type": "stream",
     "text": [
      "/var/folders/yj/c676wyw500q1vyq2brsvcqtr0000gn/T/ipykernel_40501/3994467925.py:2: SettingWithCopyWarning: \n",
      "A value is trying to be set on a copy of a slice from a DataFrame.\n",
      "Try using .loc[row_indexer,col_indexer] = value instead\n",
      "\n",
      "See the caveats in the documentation: https://pandas.pydata.org/pandas-docs/stable/user_guide/indexing.html#returning-a-view-versus-a-copy\n",
      "  df_encoded['numAccounts'] = numAccounts\n",
      "/var/folders/yj/c676wyw500q1vyq2brsvcqtr0000gn/T/ipykernel_40501/3994467925.py:3: SettingWithCopyWarning: \n",
      "A value is trying to be set on a copy of a slice from a DataFrame.\n",
      "Try using .loc[row_indexer,col_indexer] = value instead\n",
      "\n",
      "See the caveats in the documentation: https://pandas.pydata.org/pandas-docs/stable/user_guide/indexing.html#returning-a-view-versus-a-copy\n",
      "  df_encoded['incomeToSavingsRanking'] = df['incomeToSavingsRanking']\n"
     ]
    },
    {
     "data": {
      "text/html": [
       "<div>\n",
       "<style scoped>\n",
       "    .dataframe tbody tr th:only-of-type {\n",
       "        vertical-align: middle;\n",
       "    }\n",
       "\n",
       "    .dataframe tbody tr th {\n",
       "        vertical-align: top;\n",
       "    }\n",
       "\n",
       "    .dataframe thead th {\n",
       "        text-align: right;\n",
       "    }\n",
       "</style>\n",
       "<table border=\"1\" class=\"dataframe\">\n",
       "  <thead>\n",
       "    <tr style=\"text-align: right;\">\n",
       "      <th></th>\n",
       "      <th>creditSpendtoLimitRatio</th>\n",
       "      <th>averageMonthlySpending</th>\n",
       "      <th>numTnxMonthlyAverage</th>\n",
       "      <th>numAccounts</th>\n",
       "      <th>incomeToSavingsRanking</th>\n",
       "    </tr>\n",
       "  </thead>\n",
       "  <tbody>\n",
       "    <tr>\n",
       "      <th>0</th>\n",
       "      <td>0.000000</td>\n",
       "      <td>0.000000</td>\n",
       "      <td>0.000000</td>\n",
       "      <td>0</td>\n",
       "      <td>2</td>\n",
       "    </tr>\n",
       "    <tr>\n",
       "      <th>1</th>\n",
       "      <td>-0.046533</td>\n",
       "      <td>-114.890833</td>\n",
       "      <td>4.333333</td>\n",
       "      <td>3</td>\n",
       "      <td>3</td>\n",
       "    </tr>\n",
       "    <tr>\n",
       "      <th>2</th>\n",
       "      <td>0.031669</td>\n",
       "      <td>0.000000</td>\n",
       "      <td>0.000000</td>\n",
       "      <td>2</td>\n",
       "      <td>1</td>\n",
       "    </tr>\n",
       "    <tr>\n",
       "      <th>3</th>\n",
       "      <td>0.200000</td>\n",
       "      <td>-40.327500</td>\n",
       "      <td>7.750000</td>\n",
       "      <td>3</td>\n",
       "      <td>1</td>\n",
       "    </tr>\n",
       "    <tr>\n",
       "      <th>4</th>\n",
       "      <td>0.173563</td>\n",
       "      <td>-494.062727</td>\n",
       "      <td>9.000000</td>\n",
       "      <td>3</td>\n",
       "      <td>1</td>\n",
       "    </tr>\n",
       "  </tbody>\n",
       "</table>\n",
       "</div>"
      ],
      "text/plain": [
       "   creditSpendtoLimitRatio  averageMonthlySpending  numTnxMonthlyAverage  \\\n",
       "0                 0.000000                0.000000              0.000000   \n",
       "1                -0.046533             -114.890833              4.333333   \n",
       "2                 0.031669                0.000000              0.000000   \n",
       "3                 0.200000              -40.327500              7.750000   \n",
       "4                 0.173563             -494.062727              9.000000   \n",
       "\n",
       "   numAccounts  incomeToSavingsRanking  \n",
       "0            0                       2  \n",
       "1            3                       3  \n",
       "2            2                       1  \n",
       "3            3                       1  \n",
       "4            3                       1  "
      ]
     },
     "execution_count": 14,
     "metadata": {},
     "output_type": "execute_result"
    }
   ],
   "source": [
    "# combining all results\n",
    "df_encoded['numAccounts'] = numAccounts\n",
    "df_encoded['incomeToSavingsRanking'] = df['incomeToSavingsRanking']\n",
    "df_encoded.head()"
   ]
  },
  {
   "cell_type": "code",
   "execution_count": 15,
   "id": "223acbb6",
   "metadata": {},
   "outputs": [],
   "source": [
    "df_encoded.to_csv('../../data/banking_transactions_output_data/df_encoded.csv', index=False)"
   ]
  },
  {
   "cell_type": "markdown",
   "id": "09e28957",
   "metadata": {},
   "source": [
    "## Scaling"
   ]
  },
  {
   "cell_type": "code",
   "execution_count": 16,
   "id": "6639bd2b",
   "metadata": {},
   "outputs": [
    {
     "data": {
      "text/html": [
       "<div>\n",
       "<style scoped>\n",
       "    .dataframe tbody tr th:only-of-type {\n",
       "        vertical-align: middle;\n",
       "    }\n",
       "\n",
       "    .dataframe tbody tr th {\n",
       "        vertical-align: top;\n",
       "    }\n",
       "\n",
       "    .dataframe thead th {\n",
       "        text-align: right;\n",
       "    }\n",
       "</style>\n",
       "<table border=\"1\" class=\"dataframe\">\n",
       "  <thead>\n",
       "    <tr style=\"text-align: right;\">\n",
       "      <th></th>\n",
       "      <th>creditSpendtoLimitRatio</th>\n",
       "      <th>averageMonthlySpending</th>\n",
       "      <th>numTnxMonthlyAverage</th>\n",
       "      <th>numAccounts</th>\n",
       "      <th>incomeToSavingsRanking</th>\n",
       "    </tr>\n",
       "  </thead>\n",
       "  <tbody>\n",
       "    <tr>\n",
       "      <th>count</th>\n",
       "      <td>747.000000</td>\n",
       "      <td>747.000000</td>\n",
       "      <td>747.000000</td>\n",
       "      <td>747.000000</td>\n",
       "      <td>747.000000</td>\n",
       "    </tr>\n",
       "    <tr>\n",
       "      <th>mean</th>\n",
       "      <td>0.489101</td>\n",
       "      <td>0.606387</td>\n",
       "      <td>0.285391</td>\n",
       "      <td>0.623382</td>\n",
       "      <td>0.483936</td>\n",
       "    </tr>\n",
       "    <tr>\n",
       "      <th>std</th>\n",
       "      <td>0.144499</td>\n",
       "      <td>0.122037</td>\n",
       "      <td>0.218216</td>\n",
       "      <td>0.330733</td>\n",
       "      <td>0.264162</td>\n",
       "    </tr>\n",
       "    <tr>\n",
       "      <th>min</th>\n",
       "      <td>0.000000</td>\n",
       "      <td>0.000000</td>\n",
       "      <td>0.000000</td>\n",
       "      <td>0.000000</td>\n",
       "      <td>0.000000</td>\n",
       "    </tr>\n",
       "    <tr>\n",
       "      <th>25%</th>\n",
       "      <td>0.452482</td>\n",
       "      <td>0.552406</td>\n",
       "      <td>0.000000</td>\n",
       "      <td>0.333333</td>\n",
       "      <td>0.375000</td>\n",
       "    </tr>\n",
       "    <tr>\n",
       "      <th>50%</th>\n",
       "      <td>0.500000</td>\n",
       "      <td>0.660270</td>\n",
       "      <td>0.412500</td>\n",
       "      <td>0.666667</td>\n",
       "      <td>0.500000</td>\n",
       "    </tr>\n",
       "    <tr>\n",
       "      <th>75%</th>\n",
       "      <td>0.502980</td>\n",
       "      <td>0.666667</td>\n",
       "      <td>0.450000</td>\n",
       "      <td>1.000000</td>\n",
       "      <td>0.500000</td>\n",
       "    </tr>\n",
       "    <tr>\n",
       "      <th>max</th>\n",
       "      <td>1.000000</td>\n",
       "      <td>1.000000</td>\n",
       "      <td>1.000000</td>\n",
       "      <td>1.000000</td>\n",
       "      <td>1.000000</td>\n",
       "    </tr>\n",
       "  </tbody>\n",
       "</table>\n",
       "</div>"
      ],
      "text/plain": [
       "       creditSpendtoLimitRatio  averageMonthlySpending  numTnxMonthlyAverage  \\\n",
       "count               747.000000              747.000000            747.000000   \n",
       "mean                  0.489101                0.606387              0.285391   \n",
       "std                   0.144499                0.122037              0.218216   \n",
       "min                   0.000000                0.000000              0.000000   \n",
       "25%                   0.452482                0.552406              0.000000   \n",
       "50%                   0.500000                0.660270              0.412500   \n",
       "75%                   0.502980                0.666667              0.450000   \n",
       "max                   1.000000                1.000000              1.000000   \n",
       "\n",
       "       numAccounts  incomeToSavingsRanking  \n",
       "count   747.000000              747.000000  \n",
       "mean      0.623382                0.483936  \n",
       "std       0.330733                0.264162  \n",
       "min       0.000000                0.000000  \n",
       "25%       0.333333                0.375000  \n",
       "50%       0.666667                0.500000  \n",
       "75%       1.000000                0.500000  \n",
       "max       1.000000                1.000000  "
      ]
     },
     "execution_count": 16,
     "metadata": {},
     "output_type": "execute_result"
    }
   ],
   "source": [
    "from sklearn.preprocessing import MinMaxScaler\n",
    "scaler = MinMaxScaler()\n",
    "tmp = scaler.fit_transform(df_encoded)\n",
    "scaled_df = pd.DataFrame(tmp, columns=df_encoded.columns)\n",
    "scaled_df.describe()"
   ]
  },
  {
   "cell_type": "code",
   "execution_count": 17,
   "id": "45ea417a",
   "metadata": {},
   "outputs": [
    {
     "data": {
      "text/html": [
       "<div>\n",
       "<style scoped>\n",
       "    .dataframe tbody tr th:only-of-type {\n",
       "        vertical-align: middle;\n",
       "    }\n",
       "\n",
       "    .dataframe tbody tr th {\n",
       "        vertical-align: top;\n",
       "    }\n",
       "\n",
       "    .dataframe thead th {\n",
       "        text-align: right;\n",
       "    }\n",
       "</style>\n",
       "<table border=\"1\" class=\"dataframe\">\n",
       "  <thead>\n",
       "    <tr style=\"text-align: right;\">\n",
       "      <th></th>\n",
       "      <th>creditSpendtoLimitRatio</th>\n",
       "      <th>averageMonthlySpending</th>\n",
       "      <th>numTnxMonthlyAverage</th>\n",
       "      <th>numAccounts</th>\n",
       "      <th>incomeToSavingsRanking</th>\n",
       "    </tr>\n",
       "  </thead>\n",
       "  <tbody>\n",
       "    <tr>\n",
       "      <th>0</th>\n",
       "      <td>0.500000</td>\n",
       "      <td>0.666667</td>\n",
       "      <td>0.000000</td>\n",
       "      <td>0.000000</td>\n",
       "      <td>0.50</td>\n",
       "    </tr>\n",
       "    <tr>\n",
       "      <th>1</th>\n",
       "      <td>0.383667</td>\n",
       "      <td>0.590073</td>\n",
       "      <td>0.216667</td>\n",
       "      <td>1.000000</td>\n",
       "      <td>0.75</td>\n",
       "    </tr>\n",
       "    <tr>\n",
       "      <th>2</th>\n",
       "      <td>0.579173</td>\n",
       "      <td>0.666667</td>\n",
       "      <td>0.000000</td>\n",
       "      <td>0.666667</td>\n",
       "      <td>0.25</td>\n",
       "    </tr>\n",
       "    <tr>\n",
       "      <th>3</th>\n",
       "      <td>1.000000</td>\n",
       "      <td>0.639782</td>\n",
       "      <td>0.387500</td>\n",
       "      <td>1.000000</td>\n",
       "      <td>0.25</td>\n",
       "    </tr>\n",
       "    <tr>\n",
       "      <th>4</th>\n",
       "      <td>0.933909</td>\n",
       "      <td>0.337292</td>\n",
       "      <td>0.450000</td>\n",
       "      <td>1.000000</td>\n",
       "      <td>0.25</td>\n",
       "    </tr>\n",
       "    <tr>\n",
       "      <th>...</th>\n",
       "      <td>...</td>\n",
       "      <td>...</td>\n",
       "      <td>...</td>\n",
       "      <td>...</td>\n",
       "      <td>...</td>\n",
       "    </tr>\n",
       "    <tr>\n",
       "      <th>742</th>\n",
       "      <td>0.500000</td>\n",
       "      <td>0.573063</td>\n",
       "      <td>0.183333</td>\n",
       "      <td>0.333333</td>\n",
       "      <td>0.50</td>\n",
       "    </tr>\n",
       "    <tr>\n",
       "      <th>743</th>\n",
       "      <td>0.146327</td>\n",
       "      <td>0.666667</td>\n",
       "      <td>0.000000</td>\n",
       "      <td>0.666667</td>\n",
       "      <td>0.75</td>\n",
       "    </tr>\n",
       "    <tr>\n",
       "      <th>744</th>\n",
       "      <td>0.142857</td>\n",
       "      <td>0.617745</td>\n",
       "      <td>0.412500</td>\n",
       "      <td>0.666667</td>\n",
       "      <td>0.50</td>\n",
       "    </tr>\n",
       "    <tr>\n",
       "      <th>745</th>\n",
       "      <td>0.501288</td>\n",
       "      <td>0.606618</td>\n",
       "      <td>0.450000</td>\n",
       "      <td>0.666667</td>\n",
       "      <td>0.50</td>\n",
       "    </tr>\n",
       "    <tr>\n",
       "      <th>746</th>\n",
       "      <td>0.291667</td>\n",
       "      <td>0.483334</td>\n",
       "      <td>0.495000</td>\n",
       "      <td>0.666667</td>\n",
       "      <td>0.50</td>\n",
       "    </tr>\n",
       "  </tbody>\n",
       "</table>\n",
       "<p>747 rows × 5 columns</p>\n",
       "</div>"
      ],
      "text/plain": [
       "     creditSpendtoLimitRatio  averageMonthlySpending  numTnxMonthlyAverage  \\\n",
       "0                   0.500000                0.666667              0.000000   \n",
       "1                   0.383667                0.590073              0.216667   \n",
       "2                   0.579173                0.666667              0.000000   \n",
       "3                   1.000000                0.639782              0.387500   \n",
       "4                   0.933909                0.337292              0.450000   \n",
       "..                       ...                     ...                   ...   \n",
       "742                 0.500000                0.573063              0.183333   \n",
       "743                 0.146327                0.666667              0.000000   \n",
       "744                 0.142857                0.617745              0.412500   \n",
       "745                 0.501288                0.606618              0.450000   \n",
       "746                 0.291667                0.483334              0.495000   \n",
       "\n",
       "     numAccounts  incomeToSavingsRanking  \n",
       "0       0.000000                    0.50  \n",
       "1       1.000000                    0.75  \n",
       "2       0.666667                    0.25  \n",
       "3       1.000000                    0.25  \n",
       "4       1.000000                    0.25  \n",
       "..           ...                     ...  \n",
       "742     0.333333                    0.50  \n",
       "743     0.666667                    0.75  \n",
       "744     0.666667                    0.50  \n",
       "745     0.666667                    0.50  \n",
       "746     0.666667                    0.50  \n",
       "\n",
       "[747 rows x 5 columns]"
      ]
     },
     "execution_count": 17,
     "metadata": {},
     "output_type": "execute_result"
    }
   ],
   "source": [
    "# Saving the data\n",
    "scaled_df.to_csv('../../data/banking_transactions_output_data/scaled_df_v2.csv', index=False)\n",
    "pd.read_csv('../../data/banking_transactions_output_data/scaled_df_v2.csv')"
   ]
  },
  {
   "cell_type": "code",
   "execution_count": null,
   "id": "ecd2e53b",
   "metadata": {},
   "outputs": [],
   "source": []
  },
  {
   "cell_type": "code",
   "execution_count": null,
   "id": "bd7a0ea8",
   "metadata": {},
   "outputs": [],
   "source": []
  }
 ],
 "metadata": {
  "kernelspec": {
   "display_name": "Python 3 (ipykernel)",
   "language": "python",
   "name": "python3"
  },
  "language_info": {
   "codemirror_mode": {
    "name": "ipython",
    "version": 3
   },
   "file_extension": ".py",
   "mimetype": "text/x-python",
   "name": "python",
   "nbconvert_exporter": "python",
   "pygments_lexer": "ipython3",
   "version": "3.11.2"
  }
 },
 "nbformat": 4,
 "nbformat_minor": 5
}
