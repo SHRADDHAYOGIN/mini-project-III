{
 "cells": [
  {
   "cell_type": "code",
   "execution_count": 1,
   "id": "68195a4e",
   "metadata": {},
   "outputs": [],
   "source": [
    "import pandas as pd\n",
    "import numpy as np\n",
    "import matplotlib.pyplot as plt\n",
    "import seaborn as sns"
   ]
  },
  {
   "cell_type": "code",
   "execution_count": 2,
   "id": "fa3f0a19",
   "metadata": {},
   "outputs": [
    {
     "data": {
      "text/html": [
       "<div>\n",
       "<style scoped>\n",
       "    .dataframe tbody tr th:only-of-type {\n",
       "        vertical-align: middle;\n",
       "    }\n",
       "\n",
       "    .dataframe tbody tr th {\n",
       "        vertical-align: top;\n",
       "    }\n",
       "\n",
       "    .dataframe thead th {\n",
       "        text-align: right;\n",
       "    }\n",
       "</style>\n",
       "<table border=\"1\" class=\"dataframe\">\n",
       "  <thead>\n",
       "    <tr style=\"text-align: right;\">\n",
       "      <th></th>\n",
       "      <th>cust_id</th>\n",
       "      <th>hasSavings</th>\n",
       "      <th>incomeToSavingsRatio</th>\n",
       "      <th>hasCredit</th>\n",
       "      <th>creditSpendtoLimitRatio</th>\n",
       "      <th>hasChecking</th>\n",
       "      <th>averageMonthlySpending</th>\n",
       "      <th>numTnxMonthlyAverage</th>\n",
       "    </tr>\n",
       "  </thead>\n",
       "  <tbody>\n",
       "    <tr>\n",
       "      <th>0</th>\n",
       "      <td>1362691</td>\n",
       "      <td>No</td>\n",
       "      <td>0.000000</td>\n",
       "      <td>No</td>\n",
       "      <td>0.000000</td>\n",
       "      <td>No</td>\n",
       "      <td>0.000000</td>\n",
       "      <td>0.000000</td>\n",
       "    </tr>\n",
       "    <tr>\n",
       "      <th>1</th>\n",
       "      <td>1362487</td>\n",
       "      <td>Yes</td>\n",
       "      <td>-196.441989</td>\n",
       "      <td>Yes</td>\n",
       "      <td>-0.046533</td>\n",
       "      <td>Yes</td>\n",
       "      <td>-114.890833</td>\n",
       "      <td>4.333333</td>\n",
       "    </tr>\n",
       "    <tr>\n",
       "      <th>2</th>\n",
       "      <td>1363160</td>\n",
       "      <td>Yes</td>\n",
       "      <td>93716.210526</td>\n",
       "      <td>Yes</td>\n",
       "      <td>0.031669</td>\n",
       "      <td>No</td>\n",
       "      <td>0.000000</td>\n",
       "      <td>0.000000</td>\n",
       "    </tr>\n",
       "    <tr>\n",
       "      <th>3</th>\n",
       "      <td>1362752</td>\n",
       "      <td>Yes</td>\n",
       "      <td>63066.813671</td>\n",
       "      <td>Yes</td>\n",
       "      <td>0.200554</td>\n",
       "      <td>Yes</td>\n",
       "      <td>-40.327500</td>\n",
       "      <td>7.750000</td>\n",
       "    </tr>\n",
       "    <tr>\n",
       "      <th>4</th>\n",
       "      <td>1362548</td>\n",
       "      <td>Yes</td>\n",
       "      <td>141441.269841</td>\n",
       "      <td>Yes</td>\n",
       "      <td>0.173563</td>\n",
       "      <td>Yes</td>\n",
       "      <td>-494.062727</td>\n",
       "      <td>9.000000</td>\n",
       "    </tr>\n",
       "  </tbody>\n",
       "</table>\n",
       "</div>"
      ],
      "text/plain": [
       "   cust_id hasSavings  incomeToSavingsRatio hasCredit  \\\n",
       "0  1362691         No              0.000000        No   \n",
       "1  1362487        Yes           -196.441989       Yes   \n",
       "2  1363160        Yes          93716.210526       Yes   \n",
       "3  1362752        Yes          63066.813671       Yes   \n",
       "4  1362548        Yes         141441.269841       Yes   \n",
       "\n",
       "   creditSpendtoLimitRatio hasChecking  averageMonthlySpending  \\\n",
       "0                 0.000000          No                0.000000   \n",
       "1                -0.046533         Yes             -114.890833   \n",
       "2                 0.031669          No                0.000000   \n",
       "3                 0.200554         Yes              -40.327500   \n",
       "4                 0.173563         Yes             -494.062727   \n",
       "\n",
       "   numTnxMonthlyAverage  \n",
       "0              0.000000  \n",
       "1              4.333333  \n",
       "2              0.000000  \n",
       "3              7.750000  \n",
       "4              9.000000  "
      ]
     },
     "execution_count": 2,
     "metadata": {},
     "output_type": "execute_result"
    }
   ],
   "source": [
    "df = pd.read_csv('../../data/banking_transactions_output_data/customer_behavior_df.csv')\n",
    "df.drop(columns='income', inplace=True)\n",
    "df.head()"
   ]
  },
  {
   "cell_type": "code",
   "execution_count": 3,
   "id": "6f1bba6e",
   "metadata": {},
   "outputs": [
    {
     "name": "stdout",
     "output_type": "stream",
     "text": [
      "<class 'pandas.core.frame.DataFrame'>\n",
      "RangeIndex: 747 entries, 0 to 746\n",
      "Data columns (total 8 columns):\n",
      " #   Column                   Non-Null Count  Dtype  \n",
      "---  ------                   --------------  -----  \n",
      " 0   cust_id                  747 non-null    int64  \n",
      " 1   hasSavings               747 non-null    object \n",
      " 2   incomeToSavingsRatio     747 non-null    float64\n",
      " 3   hasCredit                747 non-null    object \n",
      " 4   creditSpendtoLimitRatio  747 non-null    float64\n",
      " 5   hasChecking              747 non-null    object \n",
      " 6   averageMonthlySpending   747 non-null    float64\n",
      " 7   numTnxMonthlyAverage     747 non-null    float64\n",
      "dtypes: float64(4), int64(1), object(3)\n",
      "memory usage: 46.8+ KB\n"
     ]
    }
   ],
   "source": [
    "df.info()"
   ]
  },
  {
   "cell_type": "code",
   "execution_count": 4,
   "id": "f3aa2895",
   "metadata": {},
   "outputs": [
    {
     "data": {
      "text/plain": [
       "0      0\n",
       "1      1\n",
       "2      1\n",
       "3      1\n",
       "4      1\n",
       "      ..\n",
       "742    0\n",
       "743    1\n",
       "744    0\n",
       "745    0\n",
       "746    0\n",
       "Name: hasSavings, Length: 747, dtype: int64"
      ]
     },
     "execution_count": 4,
     "metadata": {},
     "output_type": "execute_result"
    }
   ],
   "source": [
    "numerical = df['hasSavings'].apply(lambda x: 0 if x == 'No' else 1)\n",
    "numerical"
   ]
  },
  {
   "cell_type": "code",
   "execution_count": 5,
   "id": "906cdcae",
   "metadata": {},
   "outputs": [
    {
     "data": {
      "text/html": [
       "<div>\n",
       "<style scoped>\n",
       "    .dataframe tbody tr th:only-of-type {\n",
       "        vertical-align: middle;\n",
       "    }\n",
       "\n",
       "    .dataframe tbody tr th {\n",
       "        vertical-align: top;\n",
       "    }\n",
       "\n",
       "    .dataframe thead th {\n",
       "        text-align: right;\n",
       "    }\n",
       "</style>\n",
       "<table border=\"1\" class=\"dataframe\">\n",
       "  <thead>\n",
       "    <tr style=\"text-align: right;\">\n",
       "      <th></th>\n",
       "      <th>cust_id</th>\n",
       "      <th>incomeToSavingsRatio</th>\n",
       "      <th>creditSpendtoLimitRatio</th>\n",
       "      <th>averageMonthlySpending</th>\n",
       "      <th>numTnxMonthlyAverage</th>\n",
       "    </tr>\n",
       "  </thead>\n",
       "  <tbody>\n",
       "    <tr>\n",
       "      <th>count</th>\n",
       "      <td>7.470000e+02</td>\n",
       "      <td>7.470000e+02</td>\n",
       "      <td>747.000000</td>\n",
       "      <td>747.000000</td>\n",
       "      <td>747.000000</td>\n",
       "    </tr>\n",
       "    <tr>\n",
       "      <th>mean</th>\n",
       "      <td>1.362991e+06</td>\n",
       "      <td>1.438181e+04</td>\n",
       "      <td>-0.005156</td>\n",
       "      <td>-89.862092</td>\n",
       "      <td>6.173348</td>\n",
       "    </tr>\n",
       "    <tr>\n",
       "      <th>std</th>\n",
       "      <td>2.925255e+02</td>\n",
       "      <td>1.650565e+05</td>\n",
       "      <td>0.102669</td>\n",
       "      <td>199.535463</td>\n",
       "      <td>7.910584</td>\n",
       "    </tr>\n",
       "    <tr>\n",
       "      <th>min</th>\n",
       "      <td>1.362480e+06</td>\n",
       "      <td>-1.047294e+05</td>\n",
       "      <td>-1.000000</td>\n",
       "      <td>-1439.755000</td>\n",
       "      <td>0.000000</td>\n",
       "    </tr>\n",
       "    <tr>\n",
       "      <th>25%</th>\n",
       "      <td>1.362732e+06</td>\n",
       "      <td>0.000000e+00</td>\n",
       "      <td>-0.019007</td>\n",
       "      <td>-171.391310</td>\n",
       "      <td>0.000000</td>\n",
       "    </tr>\n",
       "    <tr>\n",
       "      <th>50%</th>\n",
       "      <td>1.362993e+06</td>\n",
       "      <td>0.000000e+00</td>\n",
       "      <td>0.000000</td>\n",
       "      <td>-9.595000</td>\n",
       "      <td>8.250000</td>\n",
       "    </tr>\n",
       "    <tr>\n",
       "      <th>75%</th>\n",
       "      <td>1.363244e+06</td>\n",
       "      <td>6.565271e+02</td>\n",
       "      <td>0.001192</td>\n",
       "      <td>0.000000</td>\n",
       "      <td>9.000000</td>\n",
       "    </tr>\n",
       "    <tr>\n",
       "      <th>max</th>\n",
       "      <td>1.363495e+06</td>\n",
       "      <td>4.032900e+06</td>\n",
       "      <td>0.938203</td>\n",
       "      <td>1625.430000</td>\n",
       "      <td>99.000000</td>\n",
       "    </tr>\n",
       "  </tbody>\n",
       "</table>\n",
       "</div>"
      ],
      "text/plain": [
       "            cust_id  incomeToSavingsRatio  creditSpendtoLimitRatio  \\\n",
       "count  7.470000e+02          7.470000e+02               747.000000   \n",
       "mean   1.362991e+06          1.438181e+04                -0.005156   \n",
       "std    2.925255e+02          1.650565e+05                 0.102669   \n",
       "min    1.362480e+06         -1.047294e+05                -1.000000   \n",
       "25%    1.362732e+06          0.000000e+00                -0.019007   \n",
       "50%    1.362993e+06          0.000000e+00                 0.000000   \n",
       "75%    1.363244e+06          6.565271e+02                 0.001192   \n",
       "max    1.363495e+06          4.032900e+06                 0.938203   \n",
       "\n",
       "       averageMonthlySpending  numTnxMonthlyAverage  \n",
       "count              747.000000            747.000000  \n",
       "mean               -89.862092              6.173348  \n",
       "std                199.535463              7.910584  \n",
       "min              -1439.755000              0.000000  \n",
       "25%               -171.391310              0.000000  \n",
       "50%                 -9.595000              8.250000  \n",
       "75%                  0.000000              9.000000  \n",
       "max               1625.430000             99.000000  "
      ]
     },
     "execution_count": 5,
     "metadata": {},
     "output_type": "execute_result"
    }
   ],
   "source": [
    "df.describe()"
   ]
  },
  {
   "cell_type": "code",
   "execution_count": 6,
   "id": "6bb78f83",
   "metadata": {},
   "outputs": [
    {
     "data": {
      "image/png": "[encoded data removed]",
      "text/plain": [
       "<Figure size 640x480 with 1 Axes>"
      ]
     },
     "metadata": {},
     "output_type": "display_data"
    },
    {
     "data": {
      "image/png": "[encoded data removed]",
      "text/plain": [
       "<Figure size 640x480 with 1 Axes>"
      ]
     },
     "metadata": {},
     "output_type": "display_data"
    },
    {
     "data": {
      "image/png": "[encoded data removed]",
      "text/plain": [
       "<Figure size 640x480 with 1 Axes>"
      ]
     },
     "metadata": {},
     "output_type": "display_data"
    },
    {
     "data": {
      "image/png": "[encoded data removed]",
      "text/plain": [
       "<Figure size 640x480 with 1 Axes>"
      ]
     },
     "metadata": {},
     "output_type": "display_data"
    }
   ],
   "source": [
    "numerical_columns =  ['incomeToSavingsRatio',\n",
    "                      'creditSpendtoLimitRatio',\n",
    "                      'averageMonthlySpending',\n",
    "                      'numTnxMonthlyAverage']\n",
    "    \n",
    "for col in numerical_columns:\n",
    "    plt.hist(df[col], bins=20)\n",
    "#     df[col].plot(kind='hist', bins=10)\n",
    "    plt.xlabel(col)\n",
    "    plt.show()"
   ]
  },
  {
   "cell_type": "markdown",
   "id": "a877f9f3",
   "metadata": {},
   "source": [
    "## Handling Outliers.\n",
    "### Method 1: RobustScaler\n",
    "* Decided to use RobustScaler because it's robust to outliers"
   ]
  },
  {
   "cell_type": "code",
   "execution_count": 7,
   "id": "2c54fe3e",
   "metadata": {},
   "outputs": [
    {
     "data": {
      "text/html": [
       "<div>\n",
       "<style scoped>\n",
       "    .dataframe tbody tr th:only-of-type {\n",
       "        vertical-align: middle;\n",
       "    }\n",
       "\n",
       "    .dataframe tbody tr th {\n",
       "        vertical-align: top;\n",
       "    }\n",
       "\n",
       "    .dataframe thead th {\n",
       "        text-align: right;\n",
       "    }\n",
       "</style>\n",
       "<table border=\"1\" class=\"dataframe\">\n",
       "  <thead>\n",
       "    <tr style=\"text-align: right;\">\n",
       "      <th></th>\n",
       "      <th>incomeToSavingsRatio</th>\n",
       "      <th>creditSpendtoLimitRatio</th>\n",
       "      <th>averageMonthlySpending</th>\n",
       "      <th>numTnxMonthlyAverage</th>\n",
       "    </tr>\n",
       "  </thead>\n",
       "  <tbody>\n",
       "    <tr>\n",
       "      <th>count</th>\n",
       "      <td>747.000000</td>\n",
       "      <td>747.000000</td>\n",
       "      <td>747.000000</td>\n",
       "      <td>747.000000</td>\n",
       "    </tr>\n",
       "    <tr>\n",
       "      <th>mean</th>\n",
       "      <td>21.905895</td>\n",
       "      <td>-0.255268</td>\n",
       "      <td>-0.468327</td>\n",
       "      <td>-0.230739</td>\n",
       "    </tr>\n",
       "    <tr>\n",
       "      <th>std</th>\n",
       "      <td>251.408567</td>\n",
       "      <td>5.082838</td>\n",
       "      <td>1.164210</td>\n",
       "      <td>0.878954</td>\n",
       "    </tr>\n",
       "    <tr>\n",
       "      <th>min</th>\n",
       "      <td>-159.520311</td>\n",
       "      <td>-49.507121</td>\n",
       "      <td>-8.344414</td>\n",
       "      <td>-0.916667</td>\n",
       "    </tr>\n",
       "    <tr>\n",
       "      <th>25%</th>\n",
       "      <td>0.000000</td>\n",
       "      <td>-0.940997</td>\n",
       "      <td>-0.944017</td>\n",
       "      <td>-0.916667</td>\n",
       "    </tr>\n",
       "    <tr>\n",
       "      <th>50%</th>\n",
       "      <td>0.000000</td>\n",
       "      <td>0.000000</td>\n",
       "      <td>0.000000</td>\n",
       "      <td>0.000000</td>\n",
       "    </tr>\n",
       "    <tr>\n",
       "      <th>75%</th>\n",
       "      <td>1.000000</td>\n",
       "      <td>0.059003</td>\n",
       "      <td>0.055983</td>\n",
       "      <td>0.083333</td>\n",
       "    </tr>\n",
       "    <tr>\n",
       "      <th>max</th>\n",
       "      <td>6142.777367</td>\n",
       "      <td>46.447746</td>\n",
       "      <td>9.539719</td>\n",
       "      <td>10.083333</td>\n",
       "    </tr>\n",
       "  </tbody>\n",
       "</table>\n",
       "</div>"
      ],
      "text/plain": [
       "       incomeToSavingsRatio  creditSpendtoLimitRatio  averageMonthlySpending  \\\n",
       "count            747.000000               747.000000              747.000000   \n",
       "mean              21.905895                -0.255268               -0.468327   \n",
       "std              251.408567                 5.082838                1.164210   \n",
       "min             -159.520311               -49.507121               -8.344414   \n",
       "25%                0.000000                -0.940997               -0.944017   \n",
       "50%                0.000000                 0.000000                0.000000   \n",
       "75%                1.000000                 0.059003                0.055983   \n",
       "max             6142.777367                46.447746                9.539719   \n",
       "\n",
       "       numTnxMonthlyAverage  \n",
       "count            747.000000  \n",
       "mean              -0.230739  \n",
       "std                0.878954  \n",
       "min               -0.916667  \n",
       "25%               -0.916667  \n",
       "50%                0.000000  \n",
       "75%                0.083333  \n",
       "max               10.083333  "
      ]
     },
     "execution_count": 7,
     "metadata": {},
     "output_type": "execute_result"
    }
   ],
   "source": [
    "from sklearn.preprocessing import RobustScaler\n",
    "scaler = RobustScaler()\n",
    "data_scaled = scaler.fit_transform(df[numerical_columns])\n",
    "data_scaled_df = pd.DataFrame(data_scaled, columns=numerical_columns)\n",
    "data_scaled_df.describe()"
   ]
  },
  {
   "cell_type": "code",
   "execution_count": 8,
   "id": "4fbf1757",
   "metadata": {},
   "outputs": [
    {
     "data": {
      "image/png": "[encoded data removed]",
      "text/plain": [
       "<Figure size 640x480 with 1 Axes>"
      ]
     },
     "metadata": {},
     "output_type": "display_data"
    },
    {
     "data": {
      "image/png": "[encoded data removed]",
      "text/plain": [
       "<Figure size 640x480 with 1 Axes>"
      ]
     },
     "metadata": {},
     "output_type": "display_data"
    },
    {
     "data": {
      "image/png": "[encoded data removed]",
      "text/plain": [
       "<Figure size 640x480 with 1 Axes>"
      ]
     },
     "metadata": {},
     "output_type": "display_data"
    },
    {
     "data": {
      "image/png": "[encoded data removed]",
      "text/plain": [
       "<Figure size 640x480 with 1 Axes>"
      ]
     },
     "metadata": {},
     "output_type": "display_data"
    }
   ],
   "source": [
    "for col in numerical_columns:\n",
    "    plt.hist(data_scaled_df[col], bins=20)\n",
    "#     df[col].plot(kind='hist', bins=10)\n",
    "    plt.xlabel(col)\n",
    "    plt.show()"
   ]
  },
  {
   "cell_type": "markdown",
   "id": "d85a9497",
   "metadata": {},
   "source": [
    "### Method 2. Converting to Categorical data then using RobustScaler\n",
    "\n",
    "#### Step 1. Converting to Categorical data"
   ]
  },
  {
   "cell_type": "code",
   "execution_count": 9,
   "id": "ba4c36f4",
   "metadata": {},
   "outputs": [
    {
     "data": {
      "image/png": "[encoded data removed]",
      "text/plain": [
       "<Figure size 640x480 with 1 Axes>"
      ]
     },
     "metadata": {},
     "output_type": "display_data"
    },
    {
     "data": {
      "image/png": "[encoded data removed]",
      "text/plain": [
       "<Figure size 640x480 with 1 Axes>"
      ]
     },
     "metadata": {},
     "output_type": "display_data"
    },
    {
     "data": {
      "image/png": "[encoded data removed]",
      "text/plain": [
       "<Figure size 640x480 with 1 Axes>"
      ]
     },
     "metadata": {},
     "output_type": "display_data"
    },
    {
     "data": {
      "image/png": "[encoded data removed]",
      "text/plain": [
       "<Figure size 640x480 with 1 Axes>"
      ]
     },
     "metadata": {},
     "output_type": "display_data"
    }
   ],
   "source": [
    "for col in numerical_columns:\n",
    "    sns.boxplot(data_scaled_df[col])\n",
    "#     df[col].plot(kind='hist', bins=10)\n",
    "    plt.xlabel(col)\n",
    "    plt.show()"
   ]
  },
  {
   "cell_type": "markdown",
   "id": "eb9e54dc",
   "metadata": {},
   "source": [
    "**Observations**: incometoSavingsRatio has huge outliers. Rather than scale this data, it might be better to just convert it into categories"
   ]
  },
  {
   "cell_type": "code",
   "execution_count": 10,
   "id": "b94d3b8a",
   "metadata": {},
   "outputs": [
    {
     "data": {
      "text/plain": [
       "(5,\n",
       " ['Low', 'Lowest', 'Highest', 'Med', 'High']\n",
       " Categories (5, object): ['Lowest' < 'Low' < 'Med' < 'High' < 'Highest'])"
      ]
     },
     "execution_count": 10,
     "metadata": {},
     "output_type": "execute_result"
    }
   ],
   "source": [
    "# using qcut to convert the incomeToSavingsRatio to equal bins\n",
    "incomeToSavingsRanking = pd.qcut(df['incomeToSavingsRatio'], \n",
    "                        q=8,\n",
    "                        duplicates='drop',\n",
    "                       labels = ['Lowest', 'Low', 'Med', 'High', 'Highest'])\n",
    "\n",
    "incomeToSavingsRanking.nunique(), incomeToSavingsRanking.unique()"
   ]
  },
  {
   "cell_type": "code",
   "execution_count": 11,
   "id": "b1af0063",
   "metadata": {},
   "outputs": [
    {
     "data": {
      "text/plain": [
       "0          Low\n",
       "1       Lowest\n",
       "2      Highest\n",
       "3      Highest\n",
       "4      Highest\n",
       "        ...   \n",
       "742        Low\n",
       "743     Lowest\n",
       "744        Low\n",
       "745        Low\n",
       "746        Low\n",
       "Name: incomeToSavingsRatio, Length: 747, dtype: category\n",
       "Categories (5, object): ['Lowest' < 'Low' < 'Med' < 'High' < 'Highest']"
      ]
     },
     "execution_count": 11,
     "metadata": {},
     "output_type": "execute_result"
    }
   ],
   "source": [
    "incomeToSavingsRanking"
   ]
  },
  {
   "cell_type": "code",
   "execution_count": 12,
   "id": "7093881f",
   "metadata": {},
   "outputs": [
    {
     "data": {
      "text/html": [
       "<div>\n",
       "<style scoped>\n",
       "    .dataframe tbody tr th:only-of-type {\n",
       "        vertical-align: middle;\n",
       "    }\n",
       "\n",
       "    .dataframe tbody tr th {\n",
       "        vertical-align: top;\n",
       "    }\n",
       "\n",
       "    .dataframe thead th {\n",
       "        text-align: right;\n",
       "    }\n",
       "</style>\n",
       "<table border=\"1\" class=\"dataframe\">\n",
       "  <thead>\n",
       "    <tr style=\"text-align: right;\">\n",
       "      <th></th>\n",
       "      <th>cust_id</th>\n",
       "      <th>hasSavings</th>\n",
       "      <th>hasCredit</th>\n",
       "      <th>creditSpendtoLimitRatio</th>\n",
       "      <th>hasChecking</th>\n",
       "      <th>averageMonthlySpending</th>\n",
       "      <th>numTnxMonthlyAverage</th>\n",
       "      <th>incomeToSavingsRanking</th>\n",
       "    </tr>\n",
       "  </thead>\n",
       "  <tbody>\n",
       "    <tr>\n",
       "      <th>0</th>\n",
       "      <td>1362691</td>\n",
       "      <td>No</td>\n",
       "      <td>No</td>\n",
       "      <td>0.000000</td>\n",
       "      <td>No</td>\n",
       "      <td>0.000000</td>\n",
       "      <td>0.000000</td>\n",
       "      <td>2</td>\n",
       "    </tr>\n",
       "    <tr>\n",
       "      <th>1</th>\n",
       "      <td>1362487</td>\n",
       "      <td>Yes</td>\n",
       "      <td>Yes</td>\n",
       "      <td>-0.046533</td>\n",
       "      <td>Yes</td>\n",
       "      <td>-114.890833</td>\n",
       "      <td>4.333333</td>\n",
       "      <td>3</td>\n",
       "    </tr>\n",
       "    <tr>\n",
       "      <th>2</th>\n",
       "      <td>1363160</td>\n",
       "      <td>Yes</td>\n",
       "      <td>Yes</td>\n",
       "      <td>0.031669</td>\n",
       "      <td>No</td>\n",
       "      <td>0.000000</td>\n",
       "      <td>0.000000</td>\n",
       "      <td>1</td>\n",
       "    </tr>\n",
       "    <tr>\n",
       "      <th>3</th>\n",
       "      <td>1362752</td>\n",
       "      <td>Yes</td>\n",
       "      <td>Yes</td>\n",
       "      <td>0.200554</td>\n",
       "      <td>Yes</td>\n",
       "      <td>-40.327500</td>\n",
       "      <td>7.750000</td>\n",
       "      <td>1</td>\n",
       "    </tr>\n",
       "    <tr>\n",
       "      <th>4</th>\n",
       "      <td>1362548</td>\n",
       "      <td>Yes</td>\n",
       "      <td>Yes</td>\n",
       "      <td>0.173563</td>\n",
       "      <td>Yes</td>\n",
       "      <td>-494.062727</td>\n",
       "      <td>9.000000</td>\n",
       "      <td>1</td>\n",
       "    </tr>\n",
       "  </tbody>\n",
       "</table>\n",
       "</div>"
      ],
      "text/plain": [
       "   cust_id hasSavings hasCredit  creditSpendtoLimitRatio hasChecking  \\\n",
       "0  1362691         No        No                 0.000000          No   \n",
       "1  1362487        Yes       Yes                -0.046533         Yes   \n",
       "2  1363160        Yes       Yes                 0.031669          No   \n",
       "3  1362752        Yes       Yes                 0.200554         Yes   \n",
       "4  1362548        Yes       Yes                 0.173563         Yes   \n",
       "\n",
       "   averageMonthlySpending  numTnxMonthlyAverage  incomeToSavingsRanking  \n",
       "0                0.000000              0.000000                       2  \n",
       "1             -114.890833              4.333333                       3  \n",
       "2                0.000000              0.000000                       1  \n",
       "3              -40.327500              7.750000                       1  \n",
       "4             -494.062727              9.000000                       1  "
      ]
     },
     "execution_count": 12,
     "metadata": {},
     "output_type": "execute_result"
    }
   ],
   "source": [
    "## Convert Ordinal Categorical data to numeric using Label Encoder\n",
    "\n",
    "from sklearn import preprocessing\n",
    "le = preprocessing.LabelEncoder()\n",
    "df['incomeToSavingsRanking'] = le.fit_transform(incomeToSavingsRanking)\n",
    "df.drop(columns='incomeToSavingsRatio', inplace=True)\n",
    "df.head()"
   ]
  },
  {
   "cell_type": "markdown",
   "id": "f05d68bb",
   "metadata": {},
   "source": [
    "#### Step 2. Using RobustScaler then MinMaxScaler"
   ]
  },
  {
   "cell_type": "code",
   "execution_count": 13,
   "id": "7c030051",
   "metadata": {},
   "outputs": [
    {
     "data": {
      "text/html": [
       "<div>\n",
       "<style scoped>\n",
       "    .dataframe tbody tr th:only-of-type {\n",
       "        vertical-align: middle;\n",
       "    }\n",
       "\n",
       "    .dataframe tbody tr th {\n",
       "        vertical-align: top;\n",
       "    }\n",
       "\n",
       "    .dataframe thead th {\n",
       "        text-align: right;\n",
       "    }\n",
       "</style>\n",
       "<table border=\"1\" class=\"dataframe\">\n",
       "  <thead>\n",
       "    <tr style=\"text-align: right;\">\n",
       "      <th></th>\n",
       "      <th>creditSpendtoLimitRatio</th>\n",
       "      <th>averageMonthlySpending</th>\n",
       "      <th>numTnxMonthlyAverage</th>\n",
       "    </tr>\n",
       "  </thead>\n",
       "  <tbody>\n",
       "    <tr>\n",
       "      <th>count</th>\n",
       "      <td>747.000000</td>\n",
       "      <td>747.000000</td>\n",
       "      <td>747.000000</td>\n",
       "    </tr>\n",
       "    <tr>\n",
       "      <th>mean</th>\n",
       "      <td>0.513281</td>\n",
       "      <td>0.440395</td>\n",
       "      <td>0.062357</td>\n",
       "    </tr>\n",
       "    <tr>\n",
       "      <th>std</th>\n",
       "      <td>0.052971</td>\n",
       "      <td>0.065097</td>\n",
       "      <td>0.079905</td>\n",
       "    </tr>\n",
       "    <tr>\n",
       "      <th>min</th>\n",
       "      <td>0.000000</td>\n",
       "      <td>0.000000</td>\n",
       "      <td>0.000000</td>\n",
       "    </tr>\n",
       "    <tr>\n",
       "      <th>25%</th>\n",
       "      <td>0.506135</td>\n",
       "      <td>0.413797</td>\n",
       "      <td>0.000000</td>\n",
       "    </tr>\n",
       "    <tr>\n",
       "      <th>50%</th>\n",
       "      <td>0.515942</td>\n",
       "      <td>0.466582</td>\n",
       "      <td>0.083333</td>\n",
       "    </tr>\n",
       "    <tr>\n",
       "      <th>75%</th>\n",
       "      <td>0.516557</td>\n",
       "      <td>0.469712</td>\n",
       "      <td>0.090909</td>\n",
       "    </tr>\n",
       "    <tr>\n",
       "      <th>max</th>\n",
       "      <td>1.000000</td>\n",
       "      <td>1.000000</td>\n",
       "      <td>1.000000</td>\n",
       "    </tr>\n",
       "  </tbody>\n",
       "</table>\n",
       "</div>"
      ],
      "text/plain": [
       "       creditSpendtoLimitRatio  averageMonthlySpending  numTnxMonthlyAverage\n",
       "count               747.000000              747.000000            747.000000\n",
       "mean                  0.513281                0.440395              0.062357\n",
       "std                   0.052971                0.065097              0.079905\n",
       "min                   0.000000                0.000000              0.000000\n",
       "25%                   0.506135                0.413797              0.000000\n",
       "50%                   0.515942                0.466582              0.083333\n",
       "75%                   0.516557                0.469712              0.090909\n",
       "max                   1.000000                1.000000              1.000000"
      ]
     },
     "execution_count": 13,
     "metadata": {},
     "output_type": "execute_result"
    }
   ],
   "source": [
    "numerical_columns.remove('incomeToSavingsRatio')\n",
    "from sklearn.preprocessing import RobustScaler\n",
    "scaler = RobustScaler()\n",
    "data_scaled = scaler.fit_transform(df[numerical_columns])\n",
    "tmp = pd.DataFrame(data_scaled, columns=numerical_columns)\n",
    "\n",
    "## Applying MinMax Scalar\n",
    "\n",
    "from sklearn.preprocessing import MinMaxScaler\n",
    "scaler = MinMaxScaler()\n",
    "data_scaled = scaler.fit_transform(tmp)\n",
    "scaled_df = pd.DataFrame(data_scaled, columns=numerical_columns)\n",
    "scaled_df.describe()\n"
   ]
  },
  {
   "cell_type": "markdown",
   "id": "877b2b5d",
   "metadata": {},
   "source": [
    "## Scaling Categorical Values\n",
    "\n",
    "It is recommended that categorical values should be scaled before clustering so as not to dominate the results"
   ]
  },
  {
   "cell_type": "code",
   "execution_count": 14,
   "id": "d26a1707",
   "metadata": {},
   "outputs": [
    {
     "name": "stderr",
     "output_type": "stream",
     "text": [
      "/var/folders/yj/c676wyw500q1vyq2brsvcqtr0000gn/T/ipykernel_34653/3564979909.py:6: SettingWithCopyWarning: \n",
      "A value is trying to be set on a copy of a slice from a DataFrame.\n",
      "Try using .loc[row_indexer,col_indexer] = value instead\n",
      "\n",
      "See the caveats in the documentation: https://pandas.pydata.org/pandas-docs/stable/user_guide/indexing.html#returning-a-view-versus-a-copy\n",
      "  df_binary_categories[col] = tmp\n"
     ]
    }
   ],
   "source": [
    "binary_cat_columns = ['hasSavings', 'hasCredit', 'hasChecking']\n",
    "# change Nos to 0.5 and Yess to 1 to reduce its scaling\n",
    "df_binary_categories =df[binary_cat_columns]\n",
    "for col in binary_cat_columns:\n",
    "    tmp = df[col].apply(lambda x: 0.5 if x=='No' else 1) \n",
    "    df_binary_categories[col] = tmp\n"
   ]
  },
  {
   "cell_type": "code",
   "execution_count": 15,
   "id": "75989a6d",
   "metadata": {},
   "outputs": [
    {
     "data": {
      "text/plain": [
       "1.0    420\n",
       "0.5    327\n",
       "Name: hasSavings, dtype: int64"
      ]
     },
     "execution_count": 15,
     "metadata": {},
     "output_type": "execute_result"
    }
   ],
   "source": [
    "# checking the results\n",
    "df_binary_categories['hasSavings'].value_counts()"
   ]
  },
  {
   "cell_type": "code",
   "execution_count": 16,
   "id": "8e5f575e",
   "metadata": {},
   "outputs": [],
   "source": [
    "## Scaling incomeToSavingsRatio\n",
    "df['incomeToSavingsRanking'] = df['incomeToSavingsRanking']/4"
   ]
  },
  {
   "cell_type": "code",
   "execution_count": 17,
   "id": "bb19c9ba",
   "metadata": {},
   "outputs": [
    {
     "data": {
      "text/html": [
       "<div>\n",
       "<style scoped>\n",
       "    .dataframe tbody tr th:only-of-type {\n",
       "        vertical-align: middle;\n",
       "    }\n",
       "\n",
       "    .dataframe tbody tr th {\n",
       "        vertical-align: top;\n",
       "    }\n",
       "\n",
       "    .dataframe thead th {\n",
       "        text-align: right;\n",
       "    }\n",
       "</style>\n",
       "<table border=\"1\" class=\"dataframe\">\n",
       "  <thead>\n",
       "    <tr style=\"text-align: right;\">\n",
       "      <th></th>\n",
       "      <th>cust_id</th>\n",
       "      <th>creditSpendtoLimitRatio</th>\n",
       "      <th>averageMonthlySpending</th>\n",
       "      <th>numTnxMonthlyAverage</th>\n",
       "      <th>incomeToSavingsRanking</th>\n",
       "    </tr>\n",
       "  </thead>\n",
       "  <tbody>\n",
       "    <tr>\n",
       "      <th>count</th>\n",
       "      <td>7.470000e+02</td>\n",
       "      <td>747.000000</td>\n",
       "      <td>747.000000</td>\n",
       "      <td>747.000000</td>\n",
       "      <td>747.000000</td>\n",
       "    </tr>\n",
       "    <tr>\n",
       "      <th>mean</th>\n",
       "      <td>1.362991e+06</td>\n",
       "      <td>-0.005156</td>\n",
       "      <td>-89.862092</td>\n",
       "      <td>6.173348</td>\n",
       "      <td>0.483936</td>\n",
       "    </tr>\n",
       "    <tr>\n",
       "      <th>std</th>\n",
       "      <td>2.925255e+02</td>\n",
       "      <td>0.102669</td>\n",
       "      <td>199.535463</td>\n",
       "      <td>7.910584</td>\n",
       "      <td>0.264162</td>\n",
       "    </tr>\n",
       "    <tr>\n",
       "      <th>min</th>\n",
       "      <td>1.362480e+06</td>\n",
       "      <td>-1.000000</td>\n",
       "      <td>-1439.755000</td>\n",
       "      <td>0.000000</td>\n",
       "      <td>0.000000</td>\n",
       "    </tr>\n",
       "    <tr>\n",
       "      <th>25%</th>\n",
       "      <td>1.362732e+06</td>\n",
       "      <td>-0.019007</td>\n",
       "      <td>-171.391310</td>\n",
       "      <td>0.000000</td>\n",
       "      <td>0.375000</td>\n",
       "    </tr>\n",
       "    <tr>\n",
       "      <th>50%</th>\n",
       "      <td>1.362993e+06</td>\n",
       "      <td>0.000000</td>\n",
       "      <td>-9.595000</td>\n",
       "      <td>8.250000</td>\n",
       "      <td>0.500000</td>\n",
       "    </tr>\n",
       "    <tr>\n",
       "      <th>75%</th>\n",
       "      <td>1.363244e+06</td>\n",
       "      <td>0.001192</td>\n",
       "      <td>0.000000</td>\n",
       "      <td>9.000000</td>\n",
       "      <td>0.500000</td>\n",
       "    </tr>\n",
       "    <tr>\n",
       "      <th>max</th>\n",
       "      <td>1.363495e+06</td>\n",
       "      <td>0.938203</td>\n",
       "      <td>1625.430000</td>\n",
       "      <td>99.000000</td>\n",
       "      <td>1.000000</td>\n",
       "    </tr>\n",
       "  </tbody>\n",
       "</table>\n",
       "</div>"
      ],
      "text/plain": [
       "            cust_id  creditSpendtoLimitRatio  averageMonthlySpending  \\\n",
       "count  7.470000e+02               747.000000              747.000000   \n",
       "mean   1.362991e+06                -0.005156              -89.862092   \n",
       "std    2.925255e+02                 0.102669              199.535463   \n",
       "min    1.362480e+06                -1.000000            -1439.755000   \n",
       "25%    1.362732e+06                -0.019007             -171.391310   \n",
       "50%    1.362993e+06                 0.000000               -9.595000   \n",
       "75%    1.363244e+06                 0.001192                0.000000   \n",
       "max    1.363495e+06                 0.938203             1625.430000   \n",
       "\n",
       "       numTnxMonthlyAverage  incomeToSavingsRanking  \n",
       "count            747.000000              747.000000  \n",
       "mean               6.173348                0.483936  \n",
       "std                7.910584                0.264162  \n",
       "min                0.000000                0.000000  \n",
       "25%                0.000000                0.375000  \n",
       "50%                8.250000                0.500000  \n",
       "75%                9.000000                0.500000  \n",
       "max               99.000000                1.000000  "
      ]
     },
     "execution_count": 17,
     "metadata": {},
     "output_type": "execute_result"
    }
   ],
   "source": [
    "df.describe()"
   ]
  },
  {
   "cell_type": "code",
   "execution_count": 18,
   "id": "5c7cddee",
   "metadata": {},
   "outputs": [
    {
     "data": {
      "text/html": [
       "<div>\n",
       "<style scoped>\n",
       "    .dataframe tbody tr th:only-of-type {\n",
       "        vertical-align: middle;\n",
       "    }\n",
       "\n",
       "    .dataframe tbody tr th {\n",
       "        vertical-align: top;\n",
       "    }\n",
       "\n",
       "    .dataframe thead th {\n",
       "        text-align: right;\n",
       "    }\n",
       "</style>\n",
       "<table border=\"1\" class=\"dataframe\">\n",
       "  <thead>\n",
       "    <tr style=\"text-align: right;\">\n",
       "      <th></th>\n",
       "      <th>creditSpendtoLimitRatio</th>\n",
       "      <th>averageMonthlySpending</th>\n",
       "      <th>numTnxMonthlyAverage</th>\n",
       "      <th>hasSavings</th>\n",
       "      <th>hasCredit</th>\n",
       "      <th>hasChecking</th>\n",
       "      <th>incomeToSavingsRanking</th>\n",
       "    </tr>\n",
       "  </thead>\n",
       "  <tbody>\n",
       "    <tr>\n",
       "      <th>0</th>\n",
       "      <td>0.515942</td>\n",
       "      <td>0.469712</td>\n",
       "      <td>0.000000</td>\n",
       "      <td>0.5</td>\n",
       "      <td>0.5</td>\n",
       "      <td>0.5</td>\n",
       "      <td>0.50</td>\n",
       "    </tr>\n",
       "    <tr>\n",
       "      <th>1</th>\n",
       "      <td>0.491933</td>\n",
       "      <td>0.432230</td>\n",
       "      <td>0.043771</td>\n",
       "      <td>1.0</td>\n",
       "      <td>1.0</td>\n",
       "      <td>1.0</td>\n",
       "      <td>0.75</td>\n",
       "    </tr>\n",
       "    <tr>\n",
       "      <th>2</th>\n",
       "      <td>0.532281</td>\n",
       "      <td>0.469712</td>\n",
       "      <td>0.000000</td>\n",
       "      <td>1.0</td>\n",
       "      <td>1.0</td>\n",
       "      <td>0.5</td>\n",
       "      <td>0.25</td>\n",
       "    </tr>\n",
       "    <tr>\n",
       "      <th>3</th>\n",
       "      <td>0.619416</td>\n",
       "      <td>0.456556</td>\n",
       "      <td>0.078283</td>\n",
       "      <td>1.0</td>\n",
       "      <td>1.0</td>\n",
       "      <td>1.0</td>\n",
       "      <td>0.25</td>\n",
       "    </tr>\n",
       "    <tr>\n",
       "      <th>4</th>\n",
       "      <td>0.605490</td>\n",
       "      <td>0.308527</td>\n",
       "      <td>0.090909</td>\n",
       "      <td>1.0</td>\n",
       "      <td>1.0</td>\n",
       "      <td>1.0</td>\n",
       "      <td>0.25</td>\n",
       "    </tr>\n",
       "  </tbody>\n",
       "</table>\n",
       "</div>"
      ],
      "text/plain": [
       "   creditSpendtoLimitRatio  averageMonthlySpending  numTnxMonthlyAverage  \\\n",
       "0                 0.515942                0.469712              0.000000   \n",
       "1                 0.491933                0.432230              0.043771   \n",
       "2                 0.532281                0.469712              0.000000   \n",
       "3                 0.619416                0.456556              0.078283   \n",
       "4                 0.605490                0.308527              0.090909   \n",
       "\n",
       "   hasSavings  hasCredit  hasChecking  incomeToSavingsRanking  \n",
       "0         0.5        0.5          0.5                    0.50  \n",
       "1         1.0        1.0          1.0                    0.75  \n",
       "2         1.0        1.0          0.5                    0.25  \n",
       "3         1.0        1.0          1.0                    0.25  \n",
       "4         1.0        1.0          1.0                    0.25  "
      ]
     },
     "execution_count": 18,
     "metadata": {},
     "output_type": "execute_result"
    }
   ],
   "source": [
    "# combining all results\n",
    "for col in binary_cat_columns:\n",
    "    scaled_df[col] = df_binary_categories[col]\n",
    "scaled_df['incomeToSavingsRanking'] = df['incomeToSavingsRanking']\n",
    "scaled_df.head()"
   ]
  },
  {
   "cell_type": "code",
   "execution_count": 19,
   "id": "0ee140f5",
   "metadata": {},
   "outputs": [
    {
     "data": {
      "text/html": [
       "<div>\n",
       "<style scoped>\n",
       "    .dataframe tbody tr th:only-of-type {\n",
       "        vertical-align: middle;\n",
       "    }\n",
       "\n",
       "    .dataframe tbody tr th {\n",
       "        vertical-align: top;\n",
       "    }\n",
       "\n",
       "    .dataframe thead th {\n",
       "        text-align: right;\n",
       "    }\n",
       "</style>\n",
       "<table border=\"1\" class=\"dataframe\">\n",
       "  <thead>\n",
       "    <tr style=\"text-align: right;\">\n",
       "      <th></th>\n",
       "      <th>creditSpendtoLimitRatio</th>\n",
       "      <th>averageMonthlySpending</th>\n",
       "      <th>numTnxMonthlyAverage</th>\n",
       "      <th>hasSavings</th>\n",
       "      <th>hasCredit</th>\n",
       "      <th>hasChecking</th>\n",
       "      <th>incomeToSavingsRanking</th>\n",
       "    </tr>\n",
       "  </thead>\n",
       "  <tbody>\n",
       "    <tr>\n",
       "      <th>count</th>\n",
       "      <td>747.000000</td>\n",
       "      <td>747.000000</td>\n",
       "      <td>747.000000</td>\n",
       "      <td>747.000000</td>\n",
       "      <td>747.000000</td>\n",
       "      <td>747.000000</td>\n",
       "      <td>747.000000</td>\n",
       "    </tr>\n",
       "    <tr>\n",
       "      <th>mean</th>\n",
       "      <td>0.513281</td>\n",
       "      <td>0.440395</td>\n",
       "      <td>0.062357</td>\n",
       "      <td>0.781124</td>\n",
       "      <td>0.805890</td>\n",
       "      <td>0.848059</td>\n",
       "      <td>0.483936</td>\n",
       "    </tr>\n",
       "    <tr>\n",
       "      <th>std</th>\n",
       "      <td>0.052971</td>\n",
       "      <td>0.065097</td>\n",
       "      <td>0.079905</td>\n",
       "      <td>0.248221</td>\n",
       "      <td>0.243836</td>\n",
       "      <td>0.230120</td>\n",
       "      <td>0.264162</td>\n",
       "    </tr>\n",
       "    <tr>\n",
       "      <th>min</th>\n",
       "      <td>0.000000</td>\n",
       "      <td>0.000000</td>\n",
       "      <td>0.000000</td>\n",
       "      <td>0.500000</td>\n",
       "      <td>0.500000</td>\n",
       "      <td>0.500000</td>\n",
       "      <td>0.000000</td>\n",
       "    </tr>\n",
       "    <tr>\n",
       "      <th>25%</th>\n",
       "      <td>0.506135</td>\n",
       "      <td>0.413797</td>\n",
       "      <td>0.000000</td>\n",
       "      <td>0.500000</td>\n",
       "      <td>0.500000</td>\n",
       "      <td>0.500000</td>\n",
       "      <td>0.375000</td>\n",
       "    </tr>\n",
       "    <tr>\n",
       "      <th>50%</th>\n",
       "      <td>0.515942</td>\n",
       "      <td>0.466582</td>\n",
       "      <td>0.083333</td>\n",
       "      <td>1.000000</td>\n",
       "      <td>1.000000</td>\n",
       "      <td>1.000000</td>\n",
       "      <td>0.500000</td>\n",
       "    </tr>\n",
       "    <tr>\n",
       "      <th>75%</th>\n",
       "      <td>0.516557</td>\n",
       "      <td>0.469712</td>\n",
       "      <td>0.090909</td>\n",
       "      <td>1.000000</td>\n",
       "      <td>1.000000</td>\n",
       "      <td>1.000000</td>\n",
       "      <td>0.500000</td>\n",
       "    </tr>\n",
       "    <tr>\n",
       "      <th>max</th>\n",
       "      <td>1.000000</td>\n",
       "      <td>1.000000</td>\n",
       "      <td>1.000000</td>\n",
       "      <td>1.000000</td>\n",
       "      <td>1.000000</td>\n",
       "      <td>1.000000</td>\n",
       "      <td>1.000000</td>\n",
       "    </tr>\n",
       "  </tbody>\n",
       "</table>\n",
       "</div>"
      ],
      "text/plain": [
       "       creditSpendtoLimitRatio  averageMonthlySpending  numTnxMonthlyAverage  \\\n",
       "count               747.000000              747.000000            747.000000   \n",
       "mean                  0.513281                0.440395              0.062357   \n",
       "std                   0.052971                0.065097              0.079905   \n",
       "min                   0.000000                0.000000              0.000000   \n",
       "25%                   0.506135                0.413797              0.000000   \n",
       "50%                   0.515942                0.466582              0.083333   \n",
       "75%                   0.516557                0.469712              0.090909   \n",
       "max                   1.000000                1.000000              1.000000   \n",
       "\n",
       "       hasSavings   hasCredit  hasChecking  incomeToSavingsRanking  \n",
       "count  747.000000  747.000000   747.000000              747.000000  \n",
       "mean     0.781124    0.805890     0.848059                0.483936  \n",
       "std      0.248221    0.243836     0.230120                0.264162  \n",
       "min      0.500000    0.500000     0.500000                0.000000  \n",
       "25%      0.500000    0.500000     0.500000                0.375000  \n",
       "50%      1.000000    1.000000     1.000000                0.500000  \n",
       "75%      1.000000    1.000000     1.000000                0.500000  \n",
       "max      1.000000    1.000000     1.000000                1.000000  "
      ]
     },
     "execution_count": 19,
     "metadata": {},
     "output_type": "execute_result"
    }
   ],
   "source": [
    "scaled_df.describe()"
   ]
  },
  {
   "cell_type": "code",
   "execution_count": 20,
   "id": "8757b5f4",
   "metadata": {},
   "outputs": [
    {
     "data": {
      "image/png": "[encoded data removed]",
      "text/plain": [
       "<Figure size 640x480 with 1 Axes>"
      ]
     },
     "metadata": {},
     "output_type": "display_data"
    },
    {
     "data": {
      "image/png": "[encoded data removed]",
      "text/plain": [
       "<Figure size 640x480 with 1 Axes>"
      ]
     },
     "metadata": {},
     "output_type": "display_data"
    },
    {
     "data": {
      "image/png": "[encoded data removed]",
      "text/plain": [
       "<Figure size 640x480 with 1 Axes>"
      ]
     },
     "metadata": {},
     "output_type": "display_data"
    }
   ],
   "source": [
    "for col in numerical_columns:\n",
    "    sns.boxplot(scaled_df[col])\n",
    "#     df[col].plot(kind='hist', bins=10)\n",
    "    plt.xlabel(col)\n",
    "    plt.show()"
   ]
  },
  {
   "cell_type": "code",
   "execution_count": 21,
   "id": "45ea417a",
   "metadata": {},
   "outputs": [
    {
     "data": {
      "text/html": [
       "<div>\n",
       "<style scoped>\n",
       "    .dataframe tbody tr th:only-of-type {\n",
       "        vertical-align: middle;\n",
       "    }\n",
       "\n",
       "    .dataframe tbody tr th {\n",
       "        vertical-align: top;\n",
       "    }\n",
       "\n",
       "    .dataframe thead th {\n",
       "        text-align: right;\n",
       "    }\n",
       "</style>\n",
       "<table border=\"1\" class=\"dataframe\">\n",
       "  <thead>\n",
       "    <tr style=\"text-align: right;\">\n",
       "      <th></th>\n",
       "      <th>creditSpendtoLimitRatio</th>\n",
       "      <th>averageMonthlySpending</th>\n",
       "      <th>numTnxMonthlyAverage</th>\n",
       "      <th>hasSavings</th>\n",
       "      <th>hasCredit</th>\n",
       "      <th>hasChecking</th>\n",
       "      <th>incomeToSavingsRanking</th>\n",
       "    </tr>\n",
       "  </thead>\n",
       "  <tbody>\n",
       "    <tr>\n",
       "      <th>0</th>\n",
       "      <td>0.515942</td>\n",
       "      <td>0.469712</td>\n",
       "      <td>0.000000</td>\n",
       "      <td>0.5</td>\n",
       "      <td>0.5</td>\n",
       "      <td>0.5</td>\n",
       "      <td>0.50</td>\n",
       "    </tr>\n",
       "    <tr>\n",
       "      <th>1</th>\n",
       "      <td>0.491933</td>\n",
       "      <td>0.432230</td>\n",
       "      <td>0.043771</td>\n",
       "      <td>1.0</td>\n",
       "      <td>1.0</td>\n",
       "      <td>1.0</td>\n",
       "      <td>0.75</td>\n",
       "    </tr>\n",
       "    <tr>\n",
       "      <th>2</th>\n",
       "      <td>0.532281</td>\n",
       "      <td>0.469712</td>\n",
       "      <td>0.000000</td>\n",
       "      <td>1.0</td>\n",
       "      <td>1.0</td>\n",
       "      <td>0.5</td>\n",
       "      <td>0.25</td>\n",
       "    </tr>\n",
       "    <tr>\n",
       "      <th>3</th>\n",
       "      <td>0.619416</td>\n",
       "      <td>0.456556</td>\n",
       "      <td>0.078283</td>\n",
       "      <td>1.0</td>\n",
       "      <td>1.0</td>\n",
       "      <td>1.0</td>\n",
       "      <td>0.25</td>\n",
       "    </tr>\n",
       "    <tr>\n",
       "      <th>4</th>\n",
       "      <td>0.605490</td>\n",
       "      <td>0.308527</td>\n",
       "      <td>0.090909</td>\n",
       "      <td>1.0</td>\n",
       "      <td>1.0</td>\n",
       "      <td>1.0</td>\n",
       "      <td>0.25</td>\n",
       "    </tr>\n",
       "    <tr>\n",
       "      <th>...</th>\n",
       "      <td>...</td>\n",
       "      <td>...</td>\n",
       "      <td>...</td>\n",
       "      <td>...</td>\n",
       "      <td>...</td>\n",
       "      <td>...</td>\n",
       "      <td>...</td>\n",
       "    </tr>\n",
       "    <tr>\n",
       "      <th>742</th>\n",
       "      <td>0.515942</td>\n",
       "      <td>0.423906</td>\n",
       "      <td>0.037037</td>\n",
       "      <td>0.5</td>\n",
       "      <td>0.5</td>\n",
       "      <td>1.0</td>\n",
       "      <td>0.50</td>\n",
       "    </tr>\n",
       "    <tr>\n",
       "      <th>743</th>\n",
       "      <td>0.442952</td>\n",
       "      <td>0.469712</td>\n",
       "      <td>0.000000</td>\n",
       "      <td>1.0</td>\n",
       "      <td>1.0</td>\n",
       "      <td>0.5</td>\n",
       "      <td>0.75</td>\n",
       "    </tr>\n",
       "    <tr>\n",
       "      <th>744</th>\n",
       "      <td>0.442236</td>\n",
       "      <td>0.445772</td>\n",
       "      <td>0.083333</td>\n",
       "      <td>0.5</td>\n",
       "      <td>1.0</td>\n",
       "      <td>1.0</td>\n",
       "      <td>0.50</td>\n",
       "    </tr>\n",
       "    <tr>\n",
       "      <th>745</th>\n",
       "      <td>0.516208</td>\n",
       "      <td>0.440327</td>\n",
       "      <td>0.090909</td>\n",
       "      <td>0.5</td>\n",
       "      <td>1.0</td>\n",
       "      <td>1.0</td>\n",
       "      <td>0.50</td>\n",
       "    </tr>\n",
       "    <tr>\n",
       "      <th>746</th>\n",
       "      <td>0.472947</td>\n",
       "      <td>0.379995</td>\n",
       "      <td>0.100000</td>\n",
       "      <td>0.5</td>\n",
       "      <td>1.0</td>\n",
       "      <td>1.0</td>\n",
       "      <td>0.50</td>\n",
       "    </tr>\n",
       "  </tbody>\n",
       "</table>\n",
       "<p>747 rows × 7 columns</p>\n",
       "</div>"
      ],
      "text/plain": [
       "     creditSpendtoLimitRatio  averageMonthlySpending  numTnxMonthlyAverage  \\\n",
       "0                   0.515942                0.469712              0.000000   \n",
       "1                   0.491933                0.432230              0.043771   \n",
       "2                   0.532281                0.469712              0.000000   \n",
       "3                   0.619416                0.456556              0.078283   \n",
       "4                   0.605490                0.308527              0.090909   \n",
       "..                       ...                     ...                   ...   \n",
       "742                 0.515942                0.423906              0.037037   \n",
       "743                 0.442952                0.469712              0.000000   \n",
       "744                 0.442236                0.445772              0.083333   \n",
       "745                 0.516208                0.440327              0.090909   \n",
       "746                 0.472947                0.379995              0.100000   \n",
       "\n",
       "     hasSavings  hasCredit  hasChecking  incomeToSavingsRanking  \n",
       "0           0.5        0.5          0.5                    0.50  \n",
       "1           1.0        1.0          1.0                    0.75  \n",
       "2           1.0        1.0          0.5                    0.25  \n",
       "3           1.0        1.0          1.0                    0.25  \n",
       "4           1.0        1.0          1.0                    0.25  \n",
       "..          ...        ...          ...                     ...  \n",
       "742         0.5        0.5          1.0                    0.50  \n",
       "743         1.0        1.0          0.5                    0.75  \n",
       "744         0.5        1.0          1.0                    0.50  \n",
       "745         0.5        1.0          1.0                    0.50  \n",
       "746         0.5        1.0          1.0                    0.50  \n",
       "\n",
       "[747 rows x 7 columns]"
      ]
     },
     "execution_count": 21,
     "metadata": {},
     "output_type": "execute_result"
    }
   ],
   "source": [
    "# Saving the data\n",
    "scaled_df.to_csv('../../data/banking_transactions_output_data/scaled_df.csv', index=False)\n",
    "pd.read_csv('../../data/banking_transactions_output_data/scaled_df.csv')"
   ]
  },
  {
   "cell_type": "code",
   "execution_count": null,
   "id": "ecd2e53b",
   "metadata": {},
   "outputs": [],
   "source": []
  }
 ],
 "metadata": {
  "kernelspec": {
   "display_name": "Python 3 (ipykernel)",
   "language": "python",
   "name": "python3"
  },
  "language_info": {
   "codemirror_mode": {
    "name": "ipython",
    "version": 3
   },
   "file_extension": ".py",
   "mimetype": "text/x-python",
   "name": "python",
   "nbconvert_exporter": "python",
   "pygments_lexer": "ipython3",
   "version": "3.11.2"
  }
 },
 "nbformat": 4,
 "nbformat_minor": 5
}
